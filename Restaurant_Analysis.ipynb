{
  "cells": [
    {
      "cell_type": "markdown",
      "metadata": {},
      "source": [
        "I) Adding Library And Package"
      ]
    },
    {
      "cell_type": "code",
      "execution_count": 115,
      "metadata": {
        "id": "2cN3HspsG5G8"
      },
      "outputs": [],
      "source": [
        "import pandas\n",
        "import numpy"
      ]
    },
    {
      "cell_type": "markdown",
      "metadata": {},
      "source": [
        "II) Loading Dataset"
      ]
    },
    {
      "cell_type": "code",
      "execution_count": 116,
      "metadata": {
        "id": "x811t5PBHMwR"
      },
      "outputs": [],
      "source": [
        "dataset = pandas.read_csv('rafsanjan.csv')"
      ]
    },
    {
      "cell_type": "markdown",
      "metadata": {},
      "source": [
        "III) Data Cleaning\n",
        "A) Changing Format\n",
        "The 'review_count' row encapsulates numeric values within parentheses '()' that need\n",
        "to be removed using regular expressions (regex), followed by a conversion to a float data type."
      ]
    },
    {
      "cell_type": "code",
      "execution_count": 117,
      "metadata": {
        "id": "8Mf3WXEiHeem"
      },
      "outputs": [],
      "source": [
        "dataset['review_count'] = dataset['review_count'].str.replace(r'\\D', '', regex=True)\n",
        "dataset['review_count'] = dataset['review_count'].astype(float)"
      ]
    },
    {
      "cell_type": "markdown",
      "metadata": {},
      "source": [
        "B) Removing The Outliers\n",
        "Within the context of adding restaurants to the database, a verification process is conducted. \n",
        "Specifically, it involves examining the geographical information associated with these restaurants \n",
        "to determine if the location contains 'Kerman.' If it does not meet this criterion, the respective \n",
        "entry is subject to deletion."
      ]
    },
    {
      "cell_type": "code",
      "execution_count": 118,
      "metadata": {
        "id": "srPR5L-JreAa"
      },
      "outputs": [],
      "source": [
        "contains_kerman = dataset['location'].str.contains('Kerman', case=False, na=False)\n",
        "dataset = dataset[contains_kerman]"
      ]
    },
    {
      "cell_type": "markdown",
      "metadata": {},
      "source": [
        "C) Handling Missing Values\n",
        "In the context of filling missing data within the attributes related to ratings and review counts, \n",
        "the procedure involves populating these gaps with the numerical value '0.'"
      ]
    },
    {
      "cell_type": "code",
      "execution_count": null,
      "metadata": {
        "id": "irSpu2_tsMoT"
      },
      "outputs": [],
      "source": [
        "dataset.isnull().sum()"
      ]
    },
    {
      "cell_type": "code",
      "execution_count": 120,
      "metadata": {
        "id": "un3MsJzXsdrK"
      },
      "outputs": [],
      "source": [
        "dataset.rate.fillna(0, inplace=True)\n",
        "dataset.review_count.fillna(0, inplace=True)"
      ]
    },
    {
      "cell_type": "markdown",
      "metadata": {},
      "source": [
        "D) Removing Duplicates"
      ]
    },
    {
      "cell_type": "code",
      "execution_count": 121,
      "metadata": {
        "id": "tsYvbvYCu-67"
      },
      "outputs": [],
      "source": [
        "duplicate_columns = dataset.columns[dataset.nunique() == 1].tolist()\n",
        "dataset = dataset.drop(columns=duplicate_columns)"
      ]
    },
    {
      "cell_type": "markdown",
      "metadata": {},
      "source": [
        "IV) Data Analysis\n",
        "A) Calculating the average rating of all restaurants, sum the total number of reviews \n",
        "for all restaurants and average number of reviews per restaurant."
      ]
    },
    {
      "cell_type": "code",
      "execution_count": 122,
      "metadata": {
        "id": "kgOJ83DGwOGz"
      },
      "outputs": [],
      "source": [
        "total_metrics = pandas.DataFrame()\n",
        "totals = ['Average_Rating', 'Total_Reviews', 'Average Review Count']\n",
        "value = [dataset.rate.mean(), dataset.review_count.sum(), dataset.review_count.mean()]\n",
        "total_metrics = total_metrics.assign(Totals=totals, Values=value)"
      ]
    },
    {
      "cell_type": "markdown",
      "metadata": {},
      "source": [
        "B)  Calculating  1. the number of restaurants for each restaurant type \n",
        "                 2. average rating for each type of restaurant\n",
        "                 3. Sum the total number of reviews for each type of restaurant \n",
        "                 4. the average number of reviews per restaurant type."
      ]
    },
    {
      "cell_type": "code",
      "execution_count": 123,
      "metadata": {
        "id": "_mxqr9UFea4E"
      },
      "outputs": [],
      "source": [
        "# 1.\n",
        "metrics_by_type = pandas.DataFrame()\n",
        "restaurant_type_counts = dataset['type'].value_counts()\n",
        "metrics_by_type = pandas.DataFrame({'Restaurant_Type': restaurant_type_counts.index, 'Frequency': restaurant_type_counts.values})"
      ]
    },
    {
      "cell_type": "code",
      "execution_count": 124,
      "metadata": {
        "id": "tsx3Qk7bkN6A"
      },
      "outputs": [],
      "source": [
        "# 2.\n",
        "average_ratings = dataset.groupby('type')['rate'].mean().reset_index()\n",
        "average_ratings.columns = ['Restaurant_Type', 'Average_Rating']\n",
        "metrics_by_type = pandas.merge(average_ratings, metrics_by_type, on='Restaurant_Type')"
      ]
    },
    {
      "cell_type": "code",
      "execution_count": 125,
      "metadata": {
        "id": "09lCC6wF46vo"
      },
      "outputs": [],
      "source": [
        "# 3.\n",
        "total_review = dataset.groupby('type')['review_count'].sum().reset_index()\n",
        "total_review.columns = ['Restaurant_Type', 'Total_Review']\n",
        "metrics_by_type = pandas.merge(total_review, metrics_by_type, on='Restaurant_Type')"
      ]
    },
    {
      "cell_type": "code",
      "execution_count": 126,
      "metadata": {
        "id": "r-3lzK0j6DtM"
      },
      "outputs": [],
      "source": [
        "# 4.\n",
        "average_review = dataset.groupby('type')['review_count'].mean().reset_index()\n",
        "average_review.columns = ['Restaurant_Type', 'Average_Review']\n",
        "metrics_by_type = pandas.merge(average_review, metrics_by_type, on='Restaurant_Type')"
      ]
    },
    {
      "cell_type": "markdown",
      "metadata": {},
      "source": [
        "C) A composite metric that considers both the rating and review count to assess \n",
        "overall customer satisfaction. using this formula\n",
        "CSS = ((Rating * Review Count) / Max(Review Count)) * 100"
      ]
    },
    {
      "cell_type": "code",
      "execution_count": 127,
      "metadata": {
        "id": "TJ_WHMQI6oh3"
      },
      "outputs": [],
      "source": [
        "dataset['CSS'] = ((dataset['rate'] * dataset['review_count']) / (total_metrics.loc[total_metrics['Totals'] == 'Total_Reviews', 'Values'].values[0])) * 100"
      ]
    },
    {
      "cell_type": "markdown",
      "metadata": {},
      "source": [
        "D) Classification\n",
        "Determine the thresholds that will define each category (A to D)"
      ]
    },
    {
      "cell_type": "code",
      "execution_count": 128,
      "metadata": {
        "id": "EJj2y_n0ITCI"
      },
      "outputs": [],
      "source": [
        "def classify_restaurant(css):\n",
        "    if css > 70:\n",
        "        return 'A'\n",
        "    elif 50 < css <= 70:\n",
        "        return 'B'\n",
        "    elif 30 < css <= 50:\n",
        "        return 'C'\n",
        "    elif 0 <= css <= 30:\n",
        "        return 'D'"
      ]
    },
    {
      "cell_type": "markdown",
      "metadata": {},
      "source": [
        "Creating a new column in dataset to store the assigned categories (A, B, C, D)."
      ]
    },
    {
      "cell_type": "code",
      "execution_count": 129,
      "metadata": {
        "id": "nGQXKahXIeNf"
      },
      "outputs": [],
      "source": [
        "dataset['Classification'] = dataset['CSS'].apply(classify_restaurant)"
      ]
    },
    {
      "cell_type": "markdown",
      "metadata": {},
      "source": [
        "V) Adding new datasets to CSV files"
      ]
    },
    {
      "cell_type": "code",
      "execution_count": 131,
      "metadata": {
        "id": "RaSsO1evKDgf"
      },
      "outputs": [],
      "source": [
        "dataset.to_csv('Restaurant.csv', index=False)\n",
        "total_metrics.to_csv('Total.csv', index=False)\n",
        "metrics_by_type.to_csv('metrics_by_type.csv', index=False)"
      ]
    }
  ],
  "metadata": {
    "colab": {
      "provenance": []
    },
    "kernelspec": {
      "display_name": "Python 3",
      "name": "python3"
    },
    "language_info": {
      "name": "python"
    }
  },
  "nbformat": 4,
  "nbformat_minor": 0
}
